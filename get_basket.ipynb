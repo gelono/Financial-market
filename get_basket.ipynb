{
 "cells": [
  {
   "cell_type": "code",
   "execution_count": 1,
   "metadata": {},
   "outputs": [],
   "source": [
    "import pandas as pd\n",
    "import numpy as np\n",
    "from sklearn import linear_model"
   ]
  },
  {
   "cell_type": "code",
   "execution_count": 33,
   "metadata": {},
   "outputs": [],
   "source": [
    "def get_basket(*basket):\n",
    "\n",
    "    i = 0\n",
    "    while i < len(basket):\n",
    "        basket[i].drop(['Time', 'Open', 'High', 'Low', 'Volume'], axis = 1, inplace = True)        \n",
    "        basket[i]['Date'] = pd.to_datetime(basket[i]['Date'])\n",
    "        i = i + 1\n",
    "        \n",
    "    # Frames start date alignment----------------------------------------------------\n",
    "    start_date = basket[0]['Date'][0]\n",
    "    for df in basket:\n",
    "        if df['Date'][0] > start_date:\n",
    "            start_date = df['Date'][0]\n",
    "           \n",
    "           \n",
    "    for df in basket:\n",
    "        if df['Date'][0] != start_date:\n",
    "            index = df.loc[df['Date'] == start_date].index[0]\n",
    "            df.drop(df.index[range(index)], inplace = True)\n",
    "            df.reset_index(drop=True, inplace = True)\n",
    "            \n",
    "    # Frames end date alignment------------------------------------------------\n",
    "    end_date = basket[0]['Date'][len(basket[0]['Date'])-1]\n",
    "    for df in basket:\n",
    "        if df['Date'][len(df['Date'])-1] < end_date:\n",
    "            end_date = df['Date'][len(df['Date'])-1]\n",
    "            \n",
    "        \n",
    "    for df in basket:\n",
    "        if df['Date'][len(df['Date'])-1] != end_date:\n",
    "            index = df.loc[df['Date'] == end_date].index[0]\n",
    "            df.drop(df.index[range(index+1, len(df['Date']))], inplace = True)\n",
    "            df.reset_index(drop=True, inplace = True)\n",
    "    \n",
    "    \n",
    "    # Date alignment of all frames---------------------------------------------------    \n",
    "    newDF = pd.date_range(start = start_date, end = end_date)\n",
    "    maska = pd.DataFrame(data = newDF, columns = ['Date'])\n",
    "    date = maska['Date'].tolist()\n",
    "\n",
    "    basket_date = [0] * len(basket)\n",
    "    basket_close = [0] * len(basket)\n",
    "    for i in range(len(basket)):\n",
    "        basket_date[i] = basket[i]['Date'].tolist()\n",
    "        basket_close[i] = basket[i]['Close'].tolist()\n",
    "    \n",
    "    basket_d_c = basket_date + basket_close\n",
    "    basket_list = [[0] * len(date) for i in range(len(basket_d_c))]    \n",
    "    for i in range(len(basket)):\n",
    "        for j in range(len(date)):\n",
    "            if date[j] in basket_d_c[i]:\n",
    "                basket_list[i][j] = date[j]\n",
    "                basket_list[i+len(basket)][j] = basket_d_c[i+len(basket)][basket_d_c[i].index(date[j])]\n",
    "            else:\n",
    "                basket_list[i][j] = np.nan\n",
    "                basket_list[i+len(basket)][j] = np.nan\n",
    "    \n",
    "    columns = [0] * len(basket_list)\n",
    "    for i in range(len(basket)):\n",
    "        columns[i] = 'Date_' + str(i)\n",
    "        columns[i+len(basket)] = 'Close_' + str(i)\n",
    "    \n",
    "    \n",
    "    basket_frame = pd.DataFrame()\n",
    "    for i in range(len(basket_list)):\n",
    "        basket_frame[str(i)] = basket_list[i]\n",
    "    \n",
    "    \n",
    "    basket_frame.columns = columns\n",
    "    basket_frame.dropna(inplace = True)\n",
    "    basket_frame.reset_index(drop=True, inplace = True)\n",
    "    basket_frame.drop(basket_frame.columns[[i for i in range(len(basket))]], axis = 1, inplace = True)\n",
    "    \n",
    "    # Get basket----------------------------------------------------------------------\n",
    "    regr = linear_model.LinearRegression()\n",
    "    x = basket_frame.iloc[range(len(basket_frame)), [i for i in range(1, len(basket))]]\n",
    "    y = basket_frame.iloc[range(len(basket_frame)), 0]\n",
    "    regr.fit(x, y)\n",
    "    print ('Coefficients: ', regr.coef_)\n",
    "    \n",
    "    basket_frame['Basket'] = basket_frame['Close_0'] - regr.coef_[0] * basket_frame['Close_1']\n",
    "    if len(basket) > 2:\n",
    "        for i in range(2, len(basket)):\n",
    "            basket_frame['Basket'] = basket_frame['Basket'] - regr.coef_[i-1] * basket_frame['Close_' + str(i)]            \n",
    "    \n",
    "    from statsmodels.tsa.stattools import adfuller\n",
    "    X = basket_frame['Basket']\n",
    "    result = adfuller(X)    \n",
    "    print('p-value: ', result[1])\n",
    "    \n",
    "    import matplotlib.pyplot as plt\n",
    "    %matplotlib inline\n",
    "    y = basket_frame['Basket']\n",
    "    plt.xlabel('Days')\n",
    "    plt.ylabel('Price')\n",
    "    plt.axhline(y=(np.mean(y) + 2*np.std(y)), color='r', linestyle='--');\n",
    "    plt.axhline(y=(np.mean(y) - 2*np.std(y)), color='r', linestyle='--');\n",
    "    \n",
    "    return plt.plot(y) \n"
   ]
  },
  {
   "cell_type": "code",
   "execution_count": 40,
   "metadata": {},
   "outputs": [
    {
     "name": "stdout",
     "output_type": "stream",
     "text": [
      "Coefficients:  [0.02355317 0.00103426]\n",
      "p-value:  0.004089598992124042\n"
     ]
    },
    {
     "data": {
      "text/plain": [
       "[<matplotlib.lines.Line2D at 0xff35710>]"
      ]
     },
     "execution_count": 40,
     "metadata": {},
     "output_type": "execute_result"
    },
    {
     "data": {
      "image/png": "[encoded data removed]",
      "text/plain": [
       "<Figure size 432x288 with 1 Axes>"
      ]
     },
     "metadata": {
      "needs_background": "light"
     },
     "output_type": "display_data"
    }
   ],
   "source": [
    "column_names = ['Date', 'Time', 'Open', 'High', 'Low', 'Close', 'Volume']\n",
    "df1 = pd.read_csv(r'D:\\Trading\\HO1440.csv', header = None, names = column_names)\n",
    "df2 = pd.read_csv(r'D:\\Trading\\BRN1440.csv', header = None, names = column_names)\n",
    "df3 = pd.read_csv(r'D:\\Trading\\ES1440.csv', header = None, names = column_names)\n",
    "df4 = pd.read_csv(r'D:\\Trading\\CL1440.csv', header = None, names = column_names)\n",
    "df5 = pd.read_csv(r'D:\\Trading\\AUDUSD1440.csv', header = None, names = column_names)\n",
    "df6 = pd.read_csv(r'D:\\Trading\\GBPUSD1440.csv', header = None, names = column_names)\n",
    "df7 = pd.read_csv(r'D:\\Trading\\NQ1440.csv', header = None, names = column_names)\n",
    "\n",
    "get_basket(df1, df2, df4)"
   ]
  },
  {
   "cell_type": "code",
   "execution_count": null,
   "metadata": {},
   "outputs": [],
   "source": []
  }
 ],
 "metadata": {
  "kernelspec": {
   "display_name": "Python 3",
   "language": "python",
   "name": "python3"
  },
  "language_info": {
   "codemirror_mode": {
    "name": "ipython",
    "version": 3
   },
   "file_extension": ".py",
   "mimetype": "text/x-python",
   "name": "python",
   "nbconvert_exporter": "python",
   "pygments_lexer": "ipython3",
   "version": "3.7.3"
  }
 },
 "nbformat": 4,
 "nbformat_minor": 2
}
